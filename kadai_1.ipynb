{
 "cells": [
  {
   "cell_type": "markdown",
   "metadata": {},
   "source": [
    "課題１\n",
    "最初に表示される記事の見出し全て(コーヒーの記事〜キャンプまで)\n",
    "\n",
    "課題２\n",
    "最初に表示される記事の見出しに使用される画像のsrcすべて\n",
    "\n"
   ]
  },
  {
   "cell_type": "code",
   "execution_count": 13,
   "metadata": {},
   "outputs": [
    {
     "name": "stdout",
     "output_type": "stream",
     "text": [
      "ステータスコード: 200\n",
      "['コーヒーが健康に与える新たな効果、研究で発表', '桜の季節が到来、各地でライトアップやイベント盛況', 'オンライン会議疲れを軽減する新ツール、企業で導入進む', 'キャンプブーム再燃、アウトドアグッズが売り切れ続出']\n"
     ]
    }
   ],
   "source": [
    "## 課題１\n",
    "\n",
    "import requests\n",
    "from bs4 import BeautifulSoup\n",
    "\n",
    "url = \"https://hosh-it.github.io/scraping-practice/\"\n",
    "\n",
    "response = requests.get(url)\n",
    "\n",
    "# ステータスコードを確認\n",
    "print(\"ステータスコード:\", response.status_code)  # ステータスコードを表示\n",
    "\n",
    "# ステータスコードが200でない場合はエラーメッセージを表示\n",
    "if response.status_code != 200:\n",
    "    print(\"エラーが発生しました。URLを確認してください。\")\n",
    "else:\n",
    "    soup = BeautifulSoup(response.text)\n",
    "\n",
    "    # print(soup.prettify()) ## データの確認用\n",
    "\n",
    "\n",
    "    # 記事の見出しを取得\n",
    "    headlines = soup.find_all('a')# aタグを持つ全ての見出しを取得\n",
    "\n",
    "    # リストに格納\n",
    "    print_list = []\n",
    "    for headline in headlines:\n",
    "        print_list.append(headline.get_text())\n",
    "\n",
    "    # 結果を確認\n",
    "    print(print_list)\n",
    "    \n"
   ]
  },
  {
   "cell_type": "code",
   "execution_count": 14,
   "metadata": {},
   "outputs": [
    {
     "name": "stdout",
     "output_type": "stream",
     "text": [
      "ステータスコード: 200\n",
      "['img/coffee.png', 'img/sakura.png', 'img/onlinemtg.png', 'img/camp.png']\n"
     ]
    }
   ],
   "source": [
    "## 課題２\n",
    "\n",
    "import requests\n",
    "from bs4 import BeautifulSoup\n",
    "\n",
    "url = \"https://hosh-it.github.io/scraping-practice/\"\n",
    "\n",
    "response = requests.get(url)\n",
    "\n",
    "# ステータスコードを確認\n",
    "print(\"ステータスコード:\", response.status_code)  # ステータスコードを表示\n",
    "\n",
    "# ステータスコードが200でない場合はエラーメッセージを表示\n",
    "if response.status_code != 200:\n",
    "    print(\"エラーが発生しました。URLを確認してください。\")\n",
    "else:\n",
    "    soup = BeautifulSoup(response.text)\n",
    "\n",
    "\n",
    "\n",
    "# 画像のsrcを取得\n",
    "img_tags = soup.find_all(\"img\")\n",
    "img_src_list = []\n",
    "for img_tag in img_tags:\n",
    "    img_src_list.append(img_tag.get(\"src\"))\n",
    "\n",
    "print(img_src_list)"
   ]
  },
  {
   "cell_type": "code",
   "execution_count": 16,
   "metadata": {},
   "outputs": [
    {
     "name": "stdout",
     "output_type": "stream",
     "text": [
      "コーヒーが健康に与える新たな効果、研究で発表\n",
      "桜の季節が到来、各地でライトアップやイベント盛況\n",
      "オンライン会議疲れを軽減する新ツール、企業で導入進む\n",
      "キャンプブーム再燃、アウトドアグッズが売り切れ続出\n"
     ]
    }
   ],
   "source": [
    "## 回答\n",
    "## 課題１\n",
    "from selenium import webdriver\n",
    "from selenium.webdriver.common.by import By\n",
    "\n",
    "driver = webdriver.Chrome()\n",
    "driver.get(url)\n",
    "\n",
    "\n",
    "all_news = driver.find_elements(by=By.TAG_NAME, value=\"a\")\n",
    "for single_news in all_news:\n",
    "    \n",
    "    print(single_news.text)\n",
    "    \n",
    "\n",
    "\n"
   ]
  },
  {
   "cell_type": "code",
   "execution_count": 17,
   "metadata": {},
   "outputs": [],
   "source": [
    "## 課題２\n",
    "\n",
    "from selenium import webdriver\n",
    "from selenium.webdriver.common.by import By\n",
    "\n",
    "driver = webdriver.Chrome()\n",
    "driver.get(url)\n",
    "\n",
    "all_news_img = driver.find_elements(by=By.TAG_NAME, value=\"img\")\n",
    "for single_news_img in all_news_img:\n",
    "    print(single_news_img.get_attribute(\"src\"))\n"
   ]
  },
  {
   "cell_type": "code",
   "execution_count": null,
   "metadata": {},
   "outputs": [],
   "source": []
  }
 ],
 "metadata": {
  "kernelspec": {
   "display_name": "venv",
   "language": "python",
   "name": "python3"
  },
  "language_info": {
   "codemirror_mode": {
    "name": "ipython",
    "version": 3
   },
   "file_extension": ".py",
   "mimetype": "text/x-python",
   "name": "python",
   "nbconvert_exporter": "python",
   "pygments_lexer": "ipython3",
   "version": "3.8.16"
  }
 },
 "nbformat": 4,
 "nbformat_minor": 2
}
