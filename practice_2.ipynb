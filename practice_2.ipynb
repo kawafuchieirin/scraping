{
 "cells": [
  {
   "cell_type": "code",
   "execution_count": 2,
   "metadata": {},
   "outputs": [
    {
     "data": {
      "text/html": [
       "<div>\n",
       "<style scoped>\n",
       "    .dataframe tbody tr th:only-of-type {\n",
       "        vertical-align: middle;\n",
       "    }\n",
       "\n",
       "    .dataframe tbody tr th {\n",
       "        vertical-align: top;\n",
       "    }\n",
       "\n",
       "    .dataframe thead th {\n",
       "        text-align: right;\n",
       "    }\n",
       "</style>\n",
       "<table border=\"1\" class=\"dataframe\">\n",
       "  <thead>\n",
       "    <tr style=\"text-align: right;\">\n",
       "      <th></th>\n",
       "      <th>a_text_list</th>\n",
       "      <th>a_href_list</th>\n",
       "      <th>img_src_list</th>\n",
       "    </tr>\n",
       "  </thead>\n",
       "  <tbody>\n",
       "    <tr>\n",
       "      <th>0</th>\n",
       "      <td>2ページ目へのリンク先</td>\n",
       "      <td>https://hosh-it.github.io/scraping-practice/pr...</td>\n",
       "      <td>https://hosh-it.github.io/scraping-practice/im...</td>\n",
       "    </tr>\n",
       "    <tr>\n",
       "      <th>1</th>\n",
       "      <td>3ページ目へのリンク先</td>\n",
       "      <td>https://hosh-it.github.io/scraping-practice/pr...</td>\n",
       "      <td>https://hosh-it.github.io/scraping-practice/im...</td>\n",
       "    </tr>\n",
       "    <tr>\n",
       "      <th>2</th>\n",
       "      <td>4ページ目へのリンク先</td>\n",
       "      <td>https://hosh-it.github.io/scraping-practice/pr...</td>\n",
       "      <td>https://hosh-it.github.io/scraping-practice/im...</td>\n",
       "    </tr>\n",
       "  </tbody>\n",
       "</table>\n",
       "</div>"
      ],
      "text/plain": [
       "   a_text_list                                        a_href_list  \\\n",
       "0  2ページ目へのリンク先  https://hosh-it.github.io/scraping-practice/pr...   \n",
       "1  3ページ目へのリンク先  https://hosh-it.github.io/scraping-practice/pr...   \n",
       "2  4ページ目へのリンク先  https://hosh-it.github.io/scraping-practice/pr...   \n",
       "\n",
       "                                        img_src_list  \n",
       "0  https://hosh-it.github.io/scraping-practice/im...  \n",
       "1  https://hosh-it.github.io/scraping-practice/im...  \n",
       "2  https://hosh-it.github.io/scraping-practice/im...  "
      ]
     },
     "execution_count": 2,
     "metadata": {},
     "output_type": "execute_result"
    }
   ],
   "source": [
    "import  pandas as pd \n",
    "\n",
    "html = {\"a_text_list\": [\"2ページ目へのリンク先\", \"3ページ目へのリンク先\", \"4ページ目へのリンク先\"],\n",
    "        \"a_href_list\" : [\"https://hosh-it.github.io/scraping-practice/practice_2.html\", \"https://hosh-it.github.io/scraping-practice/practice_3.html\", \"https://hosh-it.github.io/scraping-practice/practice_4.html\"],\n",
    "        \"img_src_list\" : [\"https://hosh-it.github.io/scraping-practice/img/sample_1.jpg\", \"https://hosh-it.github.io/scraping-practice/img/sample_2.jpg\", \"https://hosh-it.github.io/scraping-practice/img/sample_3.jpg\"]}\n",
    "\n",
    "df = pd.DataFrame(html)\n",
    "\n",
    "df.to_csv(\"practice_2.csv\")\n"
   ]
  }
 ],
 "metadata": {
  "kernelspec": {
   "display_name": "venv",
   "language": "python",
   "name": "python3"
  },
  "language_info": {
   "codemirror_mode": {
    "name": "ipython",
    "version": 3
   },
   "file_extension": ".py",
   "mimetype": "text/x-python",
   "name": "python",
   "nbconvert_exporter": "python",
   "pygments_lexer": "ipython3",
   "version": "3.8.16"
  }
 },
 "nbformat": 4,
 "nbformat_minor": 2
}
