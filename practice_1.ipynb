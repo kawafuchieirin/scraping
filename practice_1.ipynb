{
 "cells": [
  {
   "cell_type": "code",
   "execution_count": 4,
   "metadata": {},
   "outputs": [
    {
     "data": {
      "text/plain": [
       "'<!DOCTYPE html>\\n<html lang=\"en\">\\n<head>\\n    <meta charset=\"UTF-8\">\\n    <meta name=\"viewport\" content=\"width=device-width, initial-scale=1.0\">\\n    <title>Document</title>\\n    <style>\\n        img{\\n            width:100px;\\n        }\\n        .size-middle{\\n            width:50px;\\n        }\\n        #small-size{\\n            width:25px;\\n        }\\n    </style>\\n</head>\\n<body>\\n    <h1>スクレイピング練習</h1>\\n    <img src=\"img/1.png\"/>\\n    <a href=\"practice2.html\">2ページ目へのリンク先</a>\\n    <img src=\"img/1.png\" class=\"size-middle\"/>\\n    <a href=\"practice2.html\">3ページ目へのリンク先</a>\\n    <img src=\"img/1.png\" class=\"size-middle\" id=\"small-size\"/>\\n    <a href=\"practice2.html\">4ページ目へのリンク先</a>\\n    <script>\\n        document.querySelector(\".size-middle\").addEventListener(\"click\", function(){\\n            alert(\\'スクイピングを学びましょう！\\');\\n        })\\n    </script>\\n</body>\\n</html>'"
      ]
     },
     "execution_count": 4,
     "metadata": {},
     "output_type": "execute_result"
    }
   ],
   "source": [
    "import requests\n",
    "\n",
    "url = \"https://hosh-it.github.io/scraping-practice/practice.html\"\n",
    "\n",
    "response = requests.get(url)\n",
    "\n",
    "response.text\n",
    "\n",
    "\n"
   ]
  },
  {
   "cell_type": "code",
   "execution_count": null,
   "metadata": {},
   "outputs": [],
   "source": []
  }
 ],
 "metadata": {
  "kernelspec": {
   "display_name": "venv",
   "language": "python",
   "name": "python3"
  },
  "language_info": {
   "codemirror_mode": {
    "name": "ipython",
    "version": 3
   },
   "file_extension": ".py",
   "mimetype": "text/x-python",
   "name": "python",
   "nbconvert_exporter": "python",
   "pygments_lexer": "ipython3",
   "version": "3.8.16"
  }
 },
 "nbformat": 4,
 "nbformat_minor": 2
}
