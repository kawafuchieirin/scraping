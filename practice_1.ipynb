{
 "cells": [
  {
   "cell_type": "code",
   "execution_count": 8,
   "metadata": {},
   "outputs": [
    {
     "data": {
      "text/plain": [
       "200"
      ]
     },
     "execution_count": 8,
     "metadata": {},
     "output_type": "execute_result"
    }
   ],
   "source": [
    "import requests\n",
    "\n",
    "url = \"https://hosh-it.github.io/scraping-practice/practice.html\"\n",
    "\n",
    "response = requests.get(url)\n",
    "\n",
    "response.status_code\n"
   ]
  },
  {
   "cell_type": "code",
   "execution_count": 7,
   "metadata": {},
   "outputs": [
    {
     "data": {
      "text/plain": [
       "'<!DOCTYPE html>\\n<html lang=\"en\">\\n<head>\\n    <meta charset=\"UTF-8\">\\n    <meta name=\"viewport\" content=\"width=device-width, initial-scale=1.0\">\\n    <title>Document</title>\\n    <style>\\n        img{\\n            width:100px;\\n        }\\n        .size-middle{\\n            width:50px;\\n        }\\n        #small-size{\\n            width:25px;\\n        }\\n    </style>\\n</head>\\n<body>\\n    <h1>スクレイピング練習</h1>\\n    <img src=\"img/1.png\"/>\\n    <a href=\"practice2.html\">2ページ目へのリンク先</a>\\n    <img src=\"img/1.png\" class=\"size-middle\"/>\\n    <a href=\"practice2.html\">3ページ目へのリンク先</a>\\n    <img src=\"img/1.png\" class=\"size-middle\" id=\"small-size\"/>\\n    <a href=\"practice2.html\">4ページ目へのリンク先</a>\\n    <script>\\n        document.querySelector(\".size-middle\").addEventListener(\"click\", function(){\\n            alert(\\'スクイピングを学びましょう！\\');\\n        })\\n    </script>\\n</body>\\n</html>'"
      ]
     },
     "execution_count": 7,
     "metadata": {},
     "output_type": "execute_result"
    }
   ],
   "source": [
    "response.text"
   ]
  },
  {
   "cell_type": "code",
   "execution_count": 9,
   "metadata": {},
   "outputs": [
    {
     "name": "stdout",
     "output_type": "stream",
     "text": [
      "<!DOCTYPE html>\n",
      "<html lang=\"en\">\n",
      " <head>\n",
      "  <meta charset=\"utf-8\"/>\n",
      "  <meta content=\"width=device-width, initial-scale=1.0\" name=\"viewport\"/>\n",
      "  <title>\n",
      "   Document\n",
      "  </title>\n",
      "  <style>\n",
      "   img{\n",
      "            width:100px;\n",
      "        }\n",
      "        .size-middle{\n",
      "            width:50px;\n",
      "        }\n",
      "        #small-size{\n",
      "            width:25px;\n",
      "        }\n",
      "  </style>\n",
      " </head>\n",
      " <body>\n",
      "  <h1>\n",
      "   スクレイピング練習\n",
      "  </h1>\n",
      "  <img src=\"img/1.png\"/>\n",
      "  <a href=\"practice2.html\">\n",
      "   2ページ目へのリンク先\n",
      "  </a>\n",
      "  <img class=\"size-middle\" src=\"img/1.png\"/>\n",
      "  <a href=\"practice2.html\">\n",
      "   3ページ目へのリンク先\n",
      "  </a>\n",
      "  <img class=\"size-middle\" id=\"small-size\" src=\"img/1.png\"/>\n",
      "  <a href=\"practice2.html\">\n",
      "   4ページ目へのリンク先\n",
      "  </a>\n",
      "  <script>\n",
      "   document.querySelector(\".size-middle\").addEventListener(\"click\", function(){\n",
      "            alert('スクイピングを学びましょう！');\n",
      "        })\n",
      "  </script>\n",
      " </body>\n",
      "</html>\n",
      "\n"
     ]
    }
   ],
   "source": [
    "from bs4 import BeautifulSoup\n",
    "\n",
    "soup = BeautifulSoup(response.text)\n",
    "\n",
    "print(soup.prettify())"
   ]
  },
  {
   "cell_type": "code",
   "execution_count": 13,
   "metadata": {},
   "outputs": [
    {
     "name": "stdout",
     "output_type": "stream",
     "text": [
      "<img src=\"img/1.png\"/>\n",
      "----------------------------------------------------------------------------------------------------\n",
      "[<img src=\"img/1.png\"/>, <img class=\"size-middle\" src=\"img/1.png\"/>, <img class=\"size-middle\" id=\"small-size\" src=\"img/1.png\"/>]\n"
     ]
    }
   ],
   "source": [
    "# ①タグ名でimgタグを取得\n",
    "img_tag = soup.find(\"img\")\n",
    "img_tags = soup.find_all(\"img\")\n",
    "\n",
    "print(img_tag)\n",
    "print(\"-\"*100)\n",
    "print(img_tags)"
   ]
  },
  {
   "cell_type": "code",
   "execution_count": 15,
   "metadata": {},
   "outputs": [
    {
     "name": "stdout",
     "output_type": "stream",
     "text": [
      "None\n",
      "----------------------------------------------------------------------------------------------------\n",
      "[]\n"
     ]
    }
   ],
   "source": [
    "# ②クラス名でimgタグを取得\n",
    "img_tag = soup.find(\"img\", class_=\"size-middle\")\n",
    "img_tags = soup.find_all(\"img\", class_=\"size-middle\")\n",
    "\n",
    "print(img_tag)\n",
    "print(\"-\"*100)\n",
    "print(img_tags)"
   ]
  }
 ],
 "metadata": {
  "kernelspec": {
   "display_name": "venv",
   "language": "python",
   "name": "python3"
  },
  "language_info": {
   "codemirror_mode": {
    "name": "ipython",
    "version": 3
   },
   "file_extension": ".py",
   "mimetype": "text/x-python",
   "name": "python",
   "nbconvert_exporter": "python",
   "pygments_lexer": "ipython3",
   "version": "3.8.16"
  }
 },
 "nbformat": 4,
 "nbformat_minor": 2
}
