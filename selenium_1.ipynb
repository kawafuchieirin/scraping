{
 "cells": [
  {
   "cell_type": "code",
   "execution_count": 3,
   "metadata": {},
   "outputs": [
    {
     "data": {
      "text/plain": [
       "'/Users/kawabuchieirin/.wdm/drivers/chromedriver/mac64/134.0.6998.165/chromedriver-mac-arm64/chromedriver'"
      ]
     },
     "execution_count": 3,
     "metadata": {},
     "output_type": "execute_result"
    }
   ],
   "source": [
    "from webdriver_manager.chrome import ChromeDriverManager\n",
    "\n",
    "\n",
    "ChromeDriverManager().install()"
   ]
  },
  {
   "cell_type": "code",
   "execution_count": 38,
   "metadata": {},
   "outputs": [],
   "source": [
    "from selenium import webdriver\n",
    "from selenium.webdriver.chrome.service import Service\n",
    "\n",
    "service = Service(ChromeDriverManager().install())\n",
    "chrome = webdriver.Chrome(service=service)"
   ]
  },
  {
   "cell_type": "markdown",
   "metadata": {},
   "source": [
    "## サイトの変遷"
   ]
  },
  {
   "cell_type": "markdown",
   "metadata": {},
   "source": [
    "## ブラウザ操作"
   ]
  },
  {
   "cell_type": "code",
   "execution_count": 47,
   "metadata": {},
   "outputs": [],
   "source": [
    "from selenium import webdriver\n",
    "from selenium.webdriver.chrome.service import Service\n",
    "\n",
    "service = Service(ChromeDriverManager().install())\n",
    "chrome = webdriver.Chrome(service=service)\n",
    "## サイトのURL\n",
    "URL = \"https://hosh-it.github.io/scraping-practice-selenium/\"\n",
    "chrome.get(URL)\n",
    "\n",
    "## 自動ログイン\n",
    "## ホームの入力\n",
    "\n",
    "from selenium.webdriver.common.by import By\n",
    "username=chrome.find_element(by=By.ID, value=\"username\")\n",
    "password=chrome.find_element(by=By.ID, value=\"password\")\n",
    "\n",
    "\n",
    "## 文字の入力\n",
    "username.send_keys(\"hoshi\")\n",
    "password.send_keys(\"pass\")\n",
    "\n",
    "## ボタンのクリック\n",
    "button=chrome.find_element(by=By.TAG_NAME, value=\"button\")\n",
    "button.click()"
   ]
  },
  {
   "cell_type": "markdown",
   "metadata": {},
   "source": [
    "# 1. JSを使用したスクロール\n",
    "# 2. JSを使用したページのサイズの取得\n",
    "# 3. Seleniumを使用したJSの実行\n",
    "# 4. スクロールの自動化"
   ]
  },
  {
   "cell_type": "code",
   "execution_count": null,
   "metadata": {},
   "outputs": [],
   "source": [
    "## スクロール\n"
   ]
  }
 ],
 "metadata": {
  "kernelspec": {
   "display_name": "venv",
   "language": "python",
   "name": "python3"
  },
  "language_info": {
   "codemirror_mode": {
    "name": "ipython",
    "version": 3
   },
   "file_extension": ".py",
   "mimetype": "text/x-python",
   "name": "python",
   "nbconvert_exporter": "python",
   "pygments_lexer": "ipython3",
   "version": "3.8.16"
  }
 },
 "nbformat": 4,
 "nbformat_minor": 2
}
